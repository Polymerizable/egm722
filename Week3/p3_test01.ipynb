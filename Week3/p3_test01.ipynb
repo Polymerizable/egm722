{
 "cells": [
  {
   "cell_type": "code",
   "execution_count": null,
   "id": "7fc54520-2358-4baa-9862-c17b6f4e83b3",
   "metadata": {},
   "outputs": [],
   "source": [
    "import pandas as pd\n",
    "import geopandas as gpd\n",
    "import folium"
   ]
  },
  {
   "cell_type": "code",
   "execution_count": null,
   "id": "5d22f3a8-95bf-4b30-a578-8119c9a24f96",
   "metadata": {},
   "outputs": [],
   "source": [
    "transport = pd.read_csv('data_files/transport_data.csv')\n",
    "wards = gpd.read_file('data_files/NI_Wards.shp')\n",
    "\n",
    "merged = wards.merge(transport, left_on='Ward Code', right_on='Ward Code')\n",
    "\n",
    "df = pd.read_csv('data_files/Airports.csv') # read the csv data\n",
    "# create a new geodataframe\n",
    "airports = gpd.GeoDataFrame(df[['name', 'website']], # use the csv data, but only the name/website columns\n",
    "                            geometry=gpd.points_from_xy(df['lon'], df['lat']), # set the geometry using points_from_xy\n",
    "                            crs='epsg:4326') # set the CRS using a text representation of the EPSG code for WGS84 lat/lon\n",
    "\n",
    "\n",
    "merged['NumBus_ratio'] = round ( merged['Population'] / merged['NumBus'] ) #creation of new column with the number of people per bus stop in the ward\n",
    "m = merged.explore('NumBus_ratio', # show the NumBus column, refered to the number of people per bus stops in the ward\n",
    "                   cmap='plasma', # use the 'plasma' colormap from matplotlib\n",
    "                   legend_kwds={'caption': 'Number of people per bus stops in the ward'} # set the caption to a longer explanation\n",
    "                  )\n",
    "\n",
    "airport_args = {\n",
    "    'm': m, # add the markers to the same map we just created\n",
    "    'marker_type': 'marker', # use a marker for the points, instead of a circle\n",
    "    'popup': True, # show the information as a popup when we click on the marker\n",
    "    'legend': False, # don't show a separate legend for the point layer\n",
    "    'marker_kwds': {'icon': folium.Icon(color='red', icon='plane', prefix='fa')} # make the markers red with a plane icon from FA\n",
    "}\n",
    "\n",
    "# use the airport_args with the ** unpacking operator - more on this next week!\n",
    "airports.explore('name', **airport_args)\n",
    "\n",
    "m"
   ]
  },
  {
   "cell_type": "code",
   "execution_count": null,
   "id": "b3fd0312-3b0c-4316-9e5b-38a395bc7e6a",
   "metadata": {},
   "outputs": [],
   "source": [
    "import cartopy.crs as ccrs\n",
    "import matplotlib.pyplot as plt\n",
    "\n",
    "ni_utm = ccrs.UTM(29)  # create a Universal Transverse Mercator reference system to transform our data.\n",
    "# NI is in UTM Zone 29, so we pass 29 to ccrs.UTM()\n",
    "ax = plt.axes(projection=ni_utm)  # create an axes object in the figure, using a UTM projection,\n",
    "# where we can actually plot our data.\n",
    "\n",
    "\n",
    "\n",
    "xmin, ymin, xmax, ymax = outline.total_bounds\n",
    "# using the boundary of the shapefile features, zoom the map to our area of interest\n",
    "ax.set_extent([xmin-5000, xmax+5000, ymin-5000, ymax+5000], crs=ni_utm)  # because total_bounds\n",
    "# gives output as xmin, ymin, xmax, ymax,\n",
    "# but set_extent takes xmin, xmax, ymin, ymax, we re-order the coordinates here."
   ]
  },
  {
   "cell_type": "code",
   "execution_count": null,
   "id": "c56d337b-43aa-43c9-a418-65e113dea00d",
   "metadata": {},
   "outputs": [],
   "source": []
  },
  {
   "cell_type": "code",
   "execution_count": null,
   "id": "c12425a7-9c93-403a-85d4-e34ffcd82650",
   "metadata": {},
   "outputs": [],
   "source": [
    "NumBus_ratio = round( merged['Population'] / merged['NumBus'] )\n",
    "print(NumBus_ratio)"
   ]
  },
  {
   "cell_type": "code",
   "execution_count": null,
   "id": "f5b1cce9-79a1-4c95-8f7b-2c7ce3dbb0f5",
   "metadata": {},
   "outputs": [],
   "source": [
    "df = pd.read_csv('data_files/Bus_rail_stations.csv') # read the csv data\n",
    "\n",
    "# create a new geodataframe\n",
    "Bus_rail_stations = gpd.GeoDataFrame(df[['Station', 'ID', 'Type', 'Type~Def']], # use the csv data, but only the name/website columns\n",
    "                            geometry=gpd.points_from_xy(df['Easting'], df['Northing']), # set the geometry using points_from_xy\n",
    "                            crs='epsg:4326') # set the CRS using a text representation of the EPSG code for WGS84 lat/lon\n",
    "\n",
    "Bus_rail_stations.head(5) # show the new geodataframe"
   ]
  },
  {
   "cell_type": "code",
   "execution_count": null,
   "id": "42012399-583a-4169-a743-61e664f06f13",
   "metadata": {},
   "outputs": [],
   "source": [
    "marker_icons = {\n",
    "    'B': 'bus',\n",
    "    'R': 'train',\n",
    "    'I': 'station'\n",
    "}\n",
    "\n",
    "# Function to add marker with specified icon based on 'Type' column\n",
    "def add_marker(row):\n",
    "    icon = marker_icons.get(str(row['Type']), 'question')  # Default icon type if Type is not A, B, or C\n",
    "    folium.Marker(location=[row.geometry.y, row.geometry.x], icon=folium.Icon(icon=icon)).add_to(m)\n",
    "\n",
    "Bus_rail_stations.explore(lambda x: add_marker(x))\n",
    "\n",
    "m"
   ]
  },
  {
   "cell_type": "code",
   "execution_count": null,
   "id": "00dbb25e-b048-4f8c-96a7-9f1f706f857c",
   "metadata": {},
   "outputs": [],
   "source": [
    "# Define marker properties\n",
    "Bus_rail_stations_args = {\n",
    "    'marker_type': 'marker',  # use a marker for the points, instead of a circle\n",
    "    'popup': True,  # show the information as a popup when we click on the marker\n",
    "    'legend': False,  # don't show a separate legend for the point layer\n",
    "    'marker_kwds': {'prefix': 'fa'}  # make the markers red with a plane icon from FA\n",
    "}\n",
    "\n",
    "for index, row in Bus_rail_stations.iterrows():\n",
    "    location = [row.geometry.y, row.geometry.x]  # Coordinates are stored in a 'geometry' column\n",
    "    if row.Type == 'R':\n",
    "        Bus_rail_stations_args['marker_kwds']['icon'] = folium.Icon(color='red', icon='train')\n",
    "    elif row.Type == 'B':\n",
    "        Bus_rail_stations_args['marker_kwds']['icon'] = folium.Icon(color='blue', icon='bus')\n",
    "    elif row.Type == 'I':\n",
    "        Bus_rail_stations_args['marker_kwds']['icon'] = folium.Icon(color='orange', icon='car')\n",
    "    else:\n",
    "        continue\n",
    "    \n",
    "    marker = folium.Marker(location=location, **Bus_rail_stations_args)\n",
    "    marker.add_to(m)    #may be it is posible to change by geodataframe.explore(lambda x: add_marker(x))\n",
    "\n",
    "\n",
    "# Display the map\n",
    "m"
   ]
  },
  {
   "cell_type": "code",
   "execution_count": null,
   "id": "ab14da62-36f2-467b-8f61-1b0587a8ee9a",
   "metadata": {},
   "outputs": [],
   "source": [
    "# Define marker properties\n",
    "Bus_rail_stations_args = {\n",
    "    'marker_type': 'marker',  # use a marker for the points, instead of a circle\n",
    "    'popup': True,  # show the information as a popup when we click on the marker\n",
    "    'legend': False,  # don't show a separate legend for the point layer\n",
    "    'marker_kwds': {'prefix': 'fa'}  # make the markers red with a plane icon from FA\n",
    "}\n",
    "\n",
    "for index, row in Bus_rail_stations.iterrows():\n",
    "    #location = [row.geometry.y, row.geometry.x]  # Coordinates are stored in a 'geometry' column\n",
    "    if row.Type == 'R':\n",
    "        Bus_rail_stations_args['marker_kwds']['icon'] = folium.Icon(color='red', icon='train')\n",
    "    elif row.Type == 'B':\n",
    "        Bus_rail_stations_args['marker_kwds']['icon'] = folium.Icon(color='blue', icon='bus')\n",
    "    elif row.Type == 'I':\n",
    "        Bus_rail_stations_args['marker_kwds']['icon'] = folium.Icon(color='orange', icon='bus')\n",
    "    else:\n",
    "        continue\n",
    "    \n",
    "    marker = folium.Marker(location=[row.geometry.y, row.geometry.x], **Bus_rail_stations_args)\n",
    "    marker.add_to(m)    #may be it is posible to change by geodataframe.explore(lambda x: add_marker(x))\n",
    "\n",
    "\n",
    "# Display the map\n",
    "m"
   ]
  }
 ],
 "metadata": {
  "kernelspec": {
   "display_name": "Python 3 (ipykernel)",
   "language": "python",
   "name": "python3"
  },
  "language_info": {
   "codemirror_mode": {
    "name": "ipython",
    "version": 3
   },
   "file_extension": ".py",
   "mimetype": "text/x-python",
   "name": "python",
   "nbconvert_exporter": "python",
   "pygments_lexer": "ipython3",
   "version": "3.12.2"
  }
 },
 "nbformat": 4,
 "nbformat_minor": 5
}
